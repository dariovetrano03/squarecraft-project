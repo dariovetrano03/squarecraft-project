{
 "cells": [
  {
   "cell_type": "markdown",
   "id": "62fb4205",
   "metadata": {},
   "source": [
    "# Conceptual Design of a Box-Wing Aircraft"
   ]
  },
  {
   "cell_type": "code",
   "execution_count": 10,
   "id": "dd1cf7bf",
   "metadata": {},
   "outputs": [
    {
     "name": "stdout",
     "output_type": "stream",
     "text": [
      "The autoreload extension is already loaded. To reload it, use:\n",
      "  %reload_ext autoreload\n"
     ]
    }
   ],
   "source": [
    "from AeronauticConstants import AeronauticConstants as ac\n",
    "import numpy as np\n",
    "\n",
    "%load_ext autoreload\n",
    "%autoreload 2"
   ]
  },
  {
   "cell_type": "markdown",
   "id": "5c6688c0",
   "metadata": {},
   "source": [
    "The five independent equations are:\n",
    "\n",
    "$$ x_R =  \\frac{V_{stall,\\ hyp.}^2}{2 T_0 x_{FR} g} \\cdot Q_{MTO} \\qquad \\text{(Take-Off)} $$\n",
    "\n",
    "$$ \\frac{1}{2} \\rho_{0} V_{stall,\\ hyp.} ^ 2 S_w C_{L,\\ hyp} = Q_{MTO} \\qquad \\text{(Lift-Off)} $$\n",
    "\n",
    "$$ x_F = \\frac{(V_{stall,\\ hyp}^{Land})^2}{2 \\bar{\\bar a}} \\qquad \\text{(Braking)} $$\n",
    "\n",
    "Note: \\(V_{stall,\\ hyp}^{Land} \\ne  V_{stall,\\ hyp}\\) as they are defined at two different weight conditions (\\(Q_{MTO}\\) and \\(Q_{MTO} - Q_f\\)).\n",
    "\n",
    "$$ (V_{stall,\\ hyp}^{Land})^2 = \\frac{Q_{MTO} (1 - k)}{\\frac{1}{2} \\rho_0 S_w C_{L,\\ hyp}} \\cdot \\frac{1}{\\bar{\\bar a}} \\qquad (\\text{Landing}) $$\n",
    "\n",
    "$$ Q_{MTO} = Q_{OE} + Q_{f} + Q_{PL} \\qquad (\\text{Weights}) $$\n",
    "\n",
    "Some of the parameters involved are actually from other assumptions or equations (which should increase their number to more than five); however, they are not included here, as these equations relate to the operative aspects of the aircraft and not to its setting (e.g., the autonomy depends on the engine SFC, which is fixed once the engine is fixed; however, the landing distance imposes an external condition on the aircraft setting, which is determined by the fact that the airports are of a certain size)."
   ]
  },
  {
   "cell_type": "code",
   "execution_count": 15,
   "id": "af9a8895",
   "metadata": {},
   "outputs": [],
   "source": [
    "x_TO = (1300 + 1800) / 2 # [m] Balanced Take-Off Length: from full stop to virtual vertical obstalce at 35 ft (1300 m < x_TO < 1800 m)\n",
    "\n",
    "z_CR = 20e3 * ac.FT_TO_M # [m] Cruise altitude\n",
    "\n",
    "x_LD = (1000 + 1500) / 2 # [m] Balanced Landing Length: from V_land = 115 kts to full stop (1000 m < x_TO < 1500 m)\n",
    "\n",
    "V_land = 115 * ac.KTS_TO_MPS # [m/s]"
   ]
  },
  {
   "cell_type": "markdown",
   "id": "e024b6b3",
   "metadata": {},
   "source": [
    "## Payload weight requirement"
   ]
  },
  {
   "cell_type": "code",
   "execution_count": null,
   "id": "4f83c905",
   "metadata": {},
   "outputs": [
    {
     "name": "stdout",
     "output_type": "stream",
     "text": [
      "The total mass of payload to be carried is: Q_pay = 10651.0 kg\n"
     ]
    }
   ],
   "source": [
    "n_pax = 90 # [-] Number of passengers (80 < n_pax < 100)\n",
    "\n",
    "Q_per_pax = 95 # [kg] mass per passenger\n",
    "\n",
    "Q_pax = Q_per_pax * n_pax \n",
    "\n",
    "# ------ \n",
    "\n",
    "n_crew = 4 # [-] Number of company crew members\n",
    "\n",
    "Q_crew = Q_per_pax * n_crew # [kg] \n",
    "\n",
    "# ------\n",
    "\n",
    "Q_per_seat = 15 # [kg] # mass per seat \n",
    "\n",
    "Q_seats = Q_per_seat * n_pax # [kg]\n",
    "\n",
    "# ------\n",
    "\n",
    "Q_liq_0 = 200 # [kg]\n",
    "\n",
    "Q_liq_add_per_pax = 1.9 # [kg]\n",
    "\n",
    "Q_liq = Q_liq_0 + Q_liq_add_per_pax * n_pax # [kg]\n",
    "\n",
    "# ------\n",
    "\n",
    "V_per_lugg = 5 * (ac.FT_TO_M) ** 3 # [m^3]\n",
    "\n",
    "V_lugg = V_per_lugg * n_pax # [m^3]\n",
    "\n",
    "# ------\n",
    "\n",
    "Q_pay = Q_pax + Q_crew + Q_seats + Q_liq\n",
    "\n",
    "print(f\"The total mass of payload to be carried is: Q_pay = {Q_pay} kg\")"
   ]
  },
  {
   "cell_type": "markdown",
   "id": "556d951b",
   "metadata": {},
   "source": [
    "\n",
    "From CS 25.1 Applicability:\n",
    "\n",
    "(a) These Certification Specifications are applicable to turbine powered Large Aeroplanes.\n",
    "\n",
    "From wikipedia:\n",
    "\n",
    "\"This certification procedure applies to large, turbine-powered aircraft, with max take-off weight more than 5,700kg (CS 25.1)\"\n",
    "\n",
    "So we are in this Aircraft Category"
   ]
  },
  {
   "cell_type": "markdown",
   "id": "10d5c04e",
   "metadata": {},
   "source": [
    "## Autonomy range calculation"
   ]
  },
  {
   "cell_type": "code",
   "execution_count": 14,
   "id": "9a2cad38",
   "metadata": {},
   "outputs": [],
   "source": [
    "Q_MTO = 46000 # [kg] Maximum Take-Off Mass\n",
    "\n",
    "Q_f_non_usable = 0.003 # [-] Residual ratio of Q_f \n",
    "\n",
    "x_range = 1000 * ac.NM_TO_KM * 1000 # [m] Required range\n",
    "\n",
    "SFC = 1 # [-] Specific Fuel Consumption\n",
    "\n",
    "E_CR =  1 # [-] Cruise efficiency (lift-over-drag ratio)\n",
    "\n",
    "V_CR = 1 # [m/s] Cruise velocity\n",
    "\n",
    "k =  1 - np.exp( - SFC * x_range / (E_CR * V_CR))# [-] Fuel-to-MTO ratio: k = Q_f / Q_MTO\n",
    "\n",
    "Q_f = k * Q_MTO"
   ]
  },
  {
   "cell_type": "code",
   "execution_count": null,
   "id": "c5afdb42",
   "metadata": {},
   "outputs": [],
   "source": []
  }
 ],
 "metadata": {
  "kernelspec": {
   "display_name": "zefiro",
   "language": "python",
   "name": "python3"
  },
  "language_info": {
   "codemirror_mode": {
    "name": "ipython",
    "version": 3
   },
   "file_extension": ".py",
   "mimetype": "text/x-python",
   "name": "python",
   "nbconvert_exporter": "python",
   "pygments_lexer": "ipython3",
   "version": "3.13.7"
  }
 },
 "nbformat": 4,
 "nbformat_minor": 5
}
